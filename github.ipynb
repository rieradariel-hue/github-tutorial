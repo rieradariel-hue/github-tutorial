{
 "cells": [
  {
   "cell_type": "markdown",
   "id": "6eb743e2",
   "metadata": {},
   "source": [
    "Guit & GuitHub"
   ]
  },
  {
   "cell_type": "markdown",
   "id": "6d9efe72",
   "metadata": {},
   "source": [
    "# Git & GitHub\n",
    "\n",
    "Kommandon:\n",
    "- git add . = Lägger till alla filer för att sedan sparas\n",
    "- git commit -m \"kommentar\" = Sparar projektet i en screenshot\n",
    "- git push = lägger till våra screenshots på github"
   ]
  },
  {
   "cell_type": "code",
   "execution_count": 1,
   "id": "65112c55",
   "metadata": {},
   "outputs": [
    {
     "name": "stdout",
     "output_type": "stream",
     "text": [
      "Hello GitHub!\n",
      "This is my first Jupyter notebook commit\n",
      "5 + 10 = 15\n"
     ]
    }
   ],
   "source": [
    "# My GitHub Tutorial Notebook\n",
    "print(\"Hello GitHub!\")\n",
    "print(\"This is my first Jupyter notebook commit\")\n",
    "\n",
    "# Add some calculations\n",
    "x = 5\n",
    "y = 10\n",
    "result = x + y\n",
    "print(f\"{x} + {y} = {result}\")"
   ]
  }
 ],
 "metadata": {
  "kernelspec": {
   "display_name": "Python 3",
   "language": "python",
   "name": "python3"
  },
  "language_info": {
   "codemirror_mode": {
    "name": "ipython",
    "version": 3
   },
   "file_extension": ".py",
   "mimetype": "text/x-python",
   "name": "python",
   "nbconvert_exporter": "python",
   "pygments_lexer": "ipython3",
   "version": "3.13.7"
  }
 },
 "nbformat": 4,
 "nbformat_minor": 5
}
